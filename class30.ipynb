{
  "nbformat": 4,
  "nbformat_minor": 0,
  "metadata": {
    "colab": {
      "name": "class30.ipynb",
      "provenance": [],
      "collapsed_sections": [],
      "mount_file_id": "12x0bG1noPFkZ7WMa7wgvB0OjWzVA2y28",
      "authorship_tag": "ABX9TyMSsbx+eOUZZrajFalKXF9X",
      "include_colab_link": true
    },
    "kernelspec": {
      "name": "python3",
      "display_name": "Python 3"
    }
  },
  "cells": [
    {
      "cell_type": "markdown",
      "metadata": {
        "id": "view-in-github",
        "colab_type": "text"
      },
      "source": [
        "<a href=\"https://colab.research.google.com/github/krpraveen0/Python-Bootcamp/blob/main/class30.ipynb\" target=\"_parent\"><img src=\"https://colab.research.google.com/assets/colab-badge.svg\" alt=\"Open In Colab\"/></a>"
      ]
    },
    {
      "cell_type": "markdown",
      "metadata": {
        "id": "D2DttbxU3swT"
      },
      "source": [
        "#How to change the case  of a String\n",
        "We can change the case of the string by using the following methods:\n",
        "  1. upper()--> used to convert all characters to upper case\n",
        "  2. lower() --> used to convert all character to lower case.\n",
        "  3. swapcase()--> used to convert all lower case characters to upper case and all upper case character to lower case\n",
        "  4. title()--> used to convert all characters to title case. i.e first character in every word should be upper case and all remaining characters should\n",
        "be in lowercase.\n",
        "  5. capitalize()--> Used to convert only first character to upper case all remaining characters is converted into lower case.\n",
        "  "
      ]
    },
    {
      "cell_type": "code",
      "metadata": {
        "colab": {
          "base_uri": "https://localhost:8080/"
        },
        "id": "SGRHpGnu5rW3",
        "outputId": "56f80159-5cfd-4fb6-ed7c-58d62c45730d"
      },
      "source": [
        "demo_str = input(\"Enter your string\")\n",
        "print(demo_str.upper())\n"
      ],
      "execution_count": 1,
      "outputs": [
        {
          "output_type": "stream",
          "text": [
            "Enter your stringI am oti edema.\n",
            "I AM OTI EDEMA.\n"
          ],
          "name": "stdout"
        }
      ]
    },
    {
      "cell_type": "code",
      "metadata": {
        "colab": {
          "base_uri": "https://localhost:8080/"
        },
        "id": "PuEhH4oV579K",
        "outputId": "2be7dc54-6a0f-45d9-a4e3-d8f8d142aaa9"
      },
      "source": [
        "demo_str= input(\"Enter your string:\")\n",
        "print(demo_str.lower())"
      ],
      "execution_count": 2,
      "outputs": [
        {
          "output_type": "stream",
          "text": [
            "Enter your string:I am Oti.\n",
            "i am oti.\n"
          ],
          "name": "stdout"
        }
      ]
    },
    {
      "cell_type": "code",
      "metadata": {
        "colab": {
          "base_uri": "https://localhost:8080/"
        },
        "id": "tnplchc-6PvU",
        "outputId": "fdcfe806-528a-4250-8371-6a599dade406"
      },
      "source": [
        "demo_str= input(\"Enter your String:\")\n",
        "result = demo_str.swapcase()\n",
        "print(result)"
      ],
      "execution_count": 6,
      "outputs": [
        {
          "output_type": "stream",
          "text": [
            "Enter your String:I am Oti Edema.\n",
            "i AM oTI eDEMA.\n"
          ],
          "name": "stdout"
        }
      ]
    },
    {
      "cell_type": "code",
      "metadata": {
        "colab": {
          "base_uri": "https://localhost:8080/"
        },
        "id": "dsc3BpQx64aw",
        "outputId": "27fd86e4-ed70-46e5-db52-5a575dbda447"
      },
      "source": [
        "demo_str= input(\"Enter your String:\")\n",
        "print(demo_str.title())\n"
      ],
      "execution_count": 9,
      "outputs": [
        {
          "output_type": "stream",
          "text": [
            "Enter your String:wE aRE PytHonisTA.\n",
            "We Are Pythonista.\n"
          ],
          "name": "stdout"
        }
      ]
    },
    {
      "cell_type": "markdown",
      "metadata": {
        "id": "ul5u8hZ37j6T"
      },
      "source": [
        "# How to check starting and ending part of string\n",
        "Python constains methods to check the starting and ending part of a given string\n",
        "1. s.startswith(substring)--> it checks if the given string starts with passed substring and returns true otherwise false.\n",
        "2. s.endswith(substring)--> it checks if the given string ends with passed string and returns true otherwise false"
      ]
    },
    {
      "cell_type": "code",
      "metadata": {
        "colab": {
          "base_uri": "https://localhost:8080/"
        },
        "id": "9F5VJQIa8fkG",
        "outputId": "247f1238-dc4b-4fae-a111-9e5d9d945799"
      },
      "source": [
        "inp_str = input(\"enter your string:\")\n",
        "print(inp_str.startswith('learning'))\n",
        "print(inp_str.endswith('learning'))"
      ],
      "execution_count": 10,
      "outputs": [
        {
          "output_type": "stream",
          "text": [
            "enter your string:learning python is easy\n",
            "True\n",
            "False\n"
          ],
          "name": "stdout"
        }
      ]
    },
    {
      "cell_type": "markdown",
      "metadata": {
        "id": "5o-ThoKh8yyd"
      },
      "source": [
        "#How to check the type of character present in a string\n",
        "We can check the type of characters present in a string using following methods given by python:\n",
        "1. isalnum(): This method returns True if all characters are alphanumeric( a to z, A to Z , 0 to 9)\n",
        "2. isalpha(): this method returns True if all characters are only alphabets symbols(a to z, A to Z)\n",
        "3. isditit(): this method returns True if all characters are digits only (0 to 9)\n",
        "4. isupper(): this method returns True if all characters are upper case alphabets symbols.\n",
        "5. islower(): this method returns True if all characters are lower case alphabets symbols.\n",
        "6. istitle(): this method returns True if given string is in title case.\n",
        "7. isspace(): this method returns True if all characters in given string are spaces.\n",
        "\n"
      ]
    },
    {
      "cell_type": "code",
      "metadata": {
        "colab": {
          "base_uri": "https://localhost:8080/"
        },
        "id": "N08ifbYW-m26",
        "outputId": "e3cf33db-743b-4310-9170-c6c830b99b9e"
      },
      "source": [
        "inp_str = input(\"Enter your string:\")\n",
        "#check if the inp_str contains digit then print digit or print not digit\n",
        "if inp_str.isdigit():\n",
        "  print(inp_str,\"is digit.\")\n",
        "else:\n",
        "  print(inp_str, \"is not digit.\")"
      ],
      "execution_count": 14,
      "outputs": [
        {
          "output_type": "stream",
          "text": [
            "Enter your string:5oti\n",
            "5oti is not digit.\n"
          ],
          "name": "stdout"
        }
      ]
    },
    {
      "cell_type": "markdown",
      "metadata": {
        "id": "AKGthuH3-rJr"
      },
      "source": [
        "# How we can format a given string:\n",
        "In python we can format given string with variable by using replacement operator {} and format() method.\n"
      ]
    },
    {
      "cell_type": "code",
      "metadata": {
        "colab": {
          "base_uri": "https://localhost:8080/"
        },
        "id": "XG-loON4_q4R",
        "outputId": "2b2a46e4-732c-461c-eb4c-3f8d6b912027"
      },
      "source": [
        "name = \"oti\"\n",
        "salary = 100000\n",
        "age = 42\n",
        "print(\"{}'s salary is {}\".format(name,salary))"
      ],
      "execution_count": 18,
      "outputs": [
        {
          "output_type": "stream",
          "text": [
            "oti's salary is 100000\n"
          ],
          "name": "stdout"
        }
      ]
    },
    {
      "cell_type": "code",
      "metadata": {
        "colab": {
          "base_uri": "https://localhost:8080/"
        },
        "id": "XJZL9l11Af8C",
        "outputId": "f04bb924-6f40-408b-da73-1e415a73bfe4"
      },
      "source": [
        "print(\"{0}'s age is {1}\".format(name,age))"
      ],
      "execution_count": 19,
      "outputs": [
        {
          "output_type": "stream",
          "text": [
            "oti's age is 42\n"
          ],
          "name": "stdout"
        }
      ]
    },
    {
      "cell_type": "code",
      "metadata": {
        "colab": {
          "base_uri": "https://localhost:8080/"
        },
        "id": "qZ7GQGARBOnV",
        "outputId": "7239de76-0122-4a92-9cfa-7f4c99d3eb06"
      },
      "source": [
        "print(\"{x}'s slary at the age of {y} years is {z}\".format(z=age, x = name, y=salary))"
      ],
      "execution_count": 20,
      "outputs": [
        {
          "output_type": "stream",
          "text": [
            "oti's slary at the age of 100000 years is 42\n"
          ],
          "name": "stdout"
        }
      ]
    },
    {
      "cell_type": "code",
      "metadata": {
        "id": "LVLio7r_Birj"
      },
      "source": [
        ""
      ],
      "execution_count": null,
      "outputs": []
    }
  ]
}