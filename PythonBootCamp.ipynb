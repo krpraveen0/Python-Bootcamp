{
  "nbformat": 4,
  "nbformat_minor": 0,
  "metadata": {
    "colab": {
      "name": "PythonBootCamp.ipynb",
      "provenance": [],
      "authorship_tag": "ABX9TyML+zKHmbVYuzY/nEJ3pkA+",
      "include_colab_link": true
    },
    "kernelspec": {
      "name": "python3",
      "display_name": "Python 3"
    }
  },
  "cells": [
    {
      "cell_type": "markdown",
      "metadata": {
        "id": "view-in-github",
        "colab_type": "text"
      },
      "source": [
        "<a href=\"https://colab.research.google.com/github/krpraveen0/Python-Bootcamp/blob/main/PythonBootCamp.ipynb\" target=\"_parent\"><img src=\"https://colab.research.google.com/assets/colab-badge.svg\" alt=\"Open In Colab\"/></a>"
      ]
    },
    {
      "cell_type": "markdown",
      "metadata": {
        "id": "KtvuHp-BQZsl"
      },
      "source": [
        "**range** Data Type"
      ]
    },
    {
      "cell_type": "markdown",
      "metadata": {
        "id": "3Mb_MOTsVm4p"
      },
      "source": [
        "It represents a sequence of numbers.\n",
        "The range data type can be represented in three forms:\n",
        "\n",
        "\n",
        "1.   Form-1:\n",
        "            range(n)\n",
        "            It generates numbers from 0 to (n-1).\n",
        "\n",
        "\n",
        "\n",
        "\n",
        "\n"
      ]
    },
    {
      "cell_type": "code",
      "metadata": {
        "id": "mek_b9jMV0uu",
        "colab": {
          "base_uri": "https://localhost:8080/",
          "height": 0
        },
        "outputId": "2235057e-6241-4a6a-8c9e-54599eb5dd47"
      },
      "source": [
        "#Example:\n",
        "numbers = range(5)\n",
        "for num in numbers:\n",
        "  print(num)"
      ],
      "execution_count": 2,
      "outputs": [
        {
          "output_type": "stream",
          "text": [
            "0\n",
            "1\n",
            "2\n",
            "3\n",
            "4\n"
          ],
          "name": "stdout"
        }
      ]
    },
    {
      "cell_type": "markdown",
      "metadata": {
        "id": "xNAe5ovMWufq"
      },
      "source": [
        "\n",
        "2.  Form-2:\n",
        "          range(m, n)\n",
        "          It generates numbers from m to (n-1)\n",
        "          \n",
        "\n"
      ]
    },
    {
      "cell_type": "code",
      "metadata": {
        "id": "TDrhiGYwXNfU",
        "colab": {
          "base_uri": "https://localhost:8080/",
          "height": 0
        },
        "outputId": "f0504451-2013-4369-b8e8-2094d460366f"
      },
      "source": [
        "#form example\n",
        "numbers = range(100, 200)\n",
        "for num in numbers:\n",
        "  print(num)"
      ],
      "execution_count": 3,
      "outputs": [
        {
          "output_type": "stream",
          "text": [
            "100\n",
            "101\n",
            "102\n",
            "103\n",
            "104\n",
            "105\n",
            "106\n",
            "107\n",
            "108\n",
            "109\n",
            "110\n",
            "111\n",
            "112\n",
            "113\n",
            "114\n",
            "115\n",
            "116\n",
            "117\n",
            "118\n",
            "119\n",
            "120\n",
            "121\n",
            "122\n",
            "123\n",
            "124\n",
            "125\n",
            "126\n",
            "127\n",
            "128\n",
            "129\n",
            "130\n",
            "131\n",
            "132\n",
            "133\n",
            "134\n",
            "135\n",
            "136\n",
            "137\n",
            "138\n",
            "139\n",
            "140\n",
            "141\n",
            "142\n",
            "143\n",
            "144\n",
            "145\n",
            "146\n",
            "147\n",
            "148\n",
            "149\n",
            "150\n",
            "151\n",
            "152\n",
            "153\n",
            "154\n",
            "155\n",
            "156\n",
            "157\n",
            "158\n",
            "159\n",
            "160\n",
            "161\n",
            "162\n",
            "163\n",
            "164\n",
            "165\n",
            "166\n",
            "167\n",
            "168\n",
            "169\n",
            "170\n",
            "171\n",
            "172\n",
            "173\n",
            "174\n",
            "175\n",
            "176\n",
            "177\n",
            "178\n",
            "179\n",
            "180\n",
            "181\n",
            "182\n",
            "183\n",
            "184\n",
            "185\n",
            "186\n",
            "187\n",
            "188\n",
            "189\n",
            "190\n",
            "191\n",
            "192\n",
            "193\n",
            "194\n",
            "195\n",
            "196\n",
            "197\n",
            "198\n",
            "199\n"
          ],
          "name": "stdout"
        }
      ]
    },
    {
      "cell_type": "markdown",
      "metadata": {
        "id": "jmfB0toaXY67"
      },
      "source": [
        "\n",
        "3.   Form-3:\n",
        "          range(m, n, inc)\n",
        "          It generates numbers from m to (n-1)  incrementing by inc. \n",
        "\n",
        "\n"
      ]
    },
    {
      "cell_type": "code",
      "metadata": {
        "id": "2Dmh8dm2YLZr",
        "colab": {
          "base_uri": "https://localhost:8080/",
          "height": 0
        },
        "outputId": "55d49141-e011-41ac-aa53-b99db4b1ff17"
      },
      "source": [
        "#example:\n",
        "numbers = range(100, 200, 5)# 100, 105, 110, 115................195\n",
        "for num in numbers:\n",
        "  print(num)"
      ],
      "execution_count": 5,
      "outputs": [
        {
          "output_type": "stream",
          "text": [
            "100\n",
            "105\n",
            "110\n",
            "115\n",
            "120\n",
            "125\n",
            "130\n",
            "135\n",
            "140\n",
            "145\n",
            "150\n",
            "155\n",
            "160\n",
            "165\n",
            "170\n",
            "175\n",
            "180\n",
            "185\n",
            "190\n",
            "195\n"
          ],
          "name": "stdout"
        }
      ]
    },
    {
      "cell_type": "markdown",
      "metadata": {
        "id": "qeB5xPr1ZDWJ"
      },
      "source": [
        "**NOte:** The elements present in range Data type are not modifiable, which \n",
        "means it is immutable."
      ]
    },
    {
      "cell_type": "markdown",
      "metadata": {
        "id": "fs6HvjqOZxvF"
      },
      "source": [
        "Till now we have only generated the range data type now we will try to \n",
        "access the elements present in the range Data type but how?????"
      ]
    },
    {
      "cell_type": "markdown",
      "metadata": {
        "id": "ih4CRwLNaGeZ"
      },
      "source": [
        "We can access the elements in a range data type by using the index."
      ]
    },
    {
      "cell_type": "code",
      "metadata": {
        "colab": {
          "base_uri": "https://localhost:8080/",
          "height": 0
        },
        "id": "0kt0TWWLaPfO",
        "outputId": "4a8f7a9d-489f-423f-e9dc-9ceb6588cf87"
      },
      "source": [
        "#example:\n",
        "numbers = range(1, 5)\n",
        "print(numbers)#1,2,3,4,5\n",
        "print(numbers[0])\n",
        "print(numbers[3])"
      ],
      "execution_count": 13,
      "outputs": [
        {
          "output_type": "stream",
          "text": [
            "range(1, 5)\n",
            "1\n",
            "4\n"
          ],
          "name": "stdout"
        }
      ]
    },
    {
      "cell_type": "code",
      "metadata": {
        "id": "4B43yTxSac7u",
        "colab": {
          "base_uri": "https://localhost:8080/",
          "height": 164
        },
        "outputId": "d0860ae4-2152-4cfd-e31c-51391bbf7f17"
      },
      "source": [
        "numbers[100]"
      ],
      "execution_count": 12,
      "outputs": [
        {
          "output_type": "error",
          "ename": "IndexError",
          "evalue": "ignored",
          "traceback": [
            "\u001b[0;31m---------------------------------------------------------------------------\u001b[0m",
            "\u001b[0;31mIndexError\u001b[0m                                Traceback (most recent call last)",
            "\u001b[0;32m<ipython-input-12-6bd80f0b9f0d>\u001b[0m in \u001b[0;36m<module>\u001b[0;34m()\u001b[0m\n\u001b[0;32m----> 1\u001b[0;31m \u001b[0mnumbers\u001b[0m\u001b[0;34m[\u001b[0m\u001b[0;36m100\u001b[0m\u001b[0;34m]\u001b[0m\u001b[0;34m\u001b[0m\u001b[0;34m\u001b[0m\u001b[0m\n\u001b[0m",
            "\u001b[0;31mIndexError\u001b[0m: range object index out of range"
          ]
        }
      ]
    },
    {
      "cell_type": "markdown",
      "metadata": {
        "id": "m8zwgPagbgOq"
      },
      "source": [
        "We cannot access the values which are out of range ."
      ]
    },
    {
      "cell_type": "code",
      "metadata": {
        "colab": {
          "base_uri": "https://localhost:8080/",
          "height": 198
        },
        "id": "4YGsG4H1bvp0",
        "outputId": "dc5bad2d-86ba-4c62-b8b4-6163cac81531"
      },
      "source": [
        "#updating the range data type\n",
        "numbers[0]\n",
        "numbers[0] = 101# assignment is not supported for range data type ie it is immutable "
      ],
      "execution_count": 15,
      "outputs": [
        {
          "output_type": "error",
          "ename": "TypeError",
          "evalue": "ignored",
          "traceback": [
            "\u001b[0;31m---------------------------------------------------------------------------\u001b[0m",
            "\u001b[0;31mTypeError\u001b[0m                                 Traceback (most recent call last)",
            "\u001b[0;32m<ipython-input-15-e1f37f5da4c5>\u001b[0m in \u001b[0;36m<module>\u001b[0;34m()\u001b[0m\n\u001b[1;32m      1\u001b[0m \u001b[0;31m#updating the range data type\u001b[0m\u001b[0;34m\u001b[0m\u001b[0;34m\u001b[0m\u001b[0;34m\u001b[0m\u001b[0m\n\u001b[1;32m      2\u001b[0m \u001b[0mnumbers\u001b[0m\u001b[0;34m[\u001b[0m\u001b[0;36m0\u001b[0m\u001b[0;34m]\u001b[0m\u001b[0;34m\u001b[0m\u001b[0;34m\u001b[0m\u001b[0m\n\u001b[0;32m----> 3\u001b[0;31m \u001b[0mnumbers\u001b[0m\u001b[0;34m[\u001b[0m\u001b[0;36m0\u001b[0m\u001b[0;34m]\u001b[0m \u001b[0;34m=\u001b[0m \u001b[0;36m101\u001b[0m\u001b[0;34m\u001b[0m\u001b[0;34m\u001b[0m\u001b[0m\n\u001b[0m",
            "\u001b[0;31mTypeError\u001b[0m: 'range' object does not support item assignment"
          ]
        }
      ]
    },
    {
      "cell_type": "markdown",
      "metadata": {
        "id": "QhEalGILetBc"
      },
      "source": [
        "We can use range data type for creating lists of values"
      ]
    },
    {
      "cell_type": "code",
      "metadata": {
        "colab": {
          "base_uri": "https://localhost:8080/",
          "height": 0
        },
        "id": "SIOf1c7ee0sV",
        "outputId": "29e675f8-8842-4646-c03e-ee7ba3d8e1c8"
      },
      "source": [
        "numbers = range(10)\n",
        "for num in numbers:\n",
        "  print(num)\n",
        "num_list = list(range(10))\n",
        "print(num_list)"
      ],
      "execution_count": 20,
      "outputs": [
        {
          "output_type": "stream",
          "text": [
            "0\n",
            "1\n",
            "2\n",
            "3\n",
            "4\n",
            "5\n",
            "6\n",
            "7\n",
            "8\n",
            "9\n",
            "[0, 1, 2, 3, 4, 5, 6, 7, 8, 9]\n"
          ],
          "name": "stdout"
        }
      ]
    },
    {
      "cell_type": "markdown",
      "metadata": {
        "id": "hp-s0UqRiC5h"
      },
      "source": [
        "** set Data Type:**\n",
        "----------------------\n"
      ]
    },
    {
      "cell_type": "markdown",
      "metadata": {
        "id": "tAu4Coo1ijQJ"
      },
      "source": [
        "Data type which represents a group of values **without duplicates** where order\n",
        "is not important is known as **set** Data type."
      ]
    },
    {
      "cell_type": "markdown",
      "metadata": {
        "id": "a0vHJ-0ejHA8"
      },
      "source": [
        "A data type is called as set type if \n",
        "\n",
        "\n",
        "1.   insertion order is not preserved\n",
        "2.   duplicates are not allowed.\n",
        "3.   heterogeneous objects are allowed.\n",
        "4.   It is mutable collection, which means we can change its values.\n",
        "5.   Growable in nature.\n",
        "6.   set doesn't support indexing.\n",
        "\n",
        "\n",
        "\n",
        "\n",
        "\n",
        "\n",
        "\n"
      ]
    },
    {
      "cell_type": "code",
      "metadata": {
        "id": "WAmlpZX5kb5c"
      },
      "source": [
        "#example\n",
        "#creation of set data type\n",
        "set1 = {99, 3+7j,78, 56.9, 'ten'} # set is created by using {} curly braces.\n"
      ],
      "execution_count": 21,
      "outputs": []
    },
    {
      "cell_type": "code",
      "metadata": {
        "colab": {
          "base_uri": "https://localhost:8080/",
          "height": 181
        },
        "id": "nmJ_ro8nlUqH",
        "outputId": "a6b5b35c-53e6-4c1c-f7eb-cc97f90be9ad"
      },
      "source": [
        "#trying to access set1 using its index\n",
        "set1[3]"
      ],
      "execution_count": 22,
      "outputs": [
        {
          "output_type": "error",
          "ename": "TypeError",
          "evalue": "ignored",
          "traceback": [
            "\u001b[0;31m---------------------------------------------------------------------------\u001b[0m",
            "\u001b[0;31mTypeError\u001b[0m                                 Traceback (most recent call last)",
            "\u001b[0;32m<ipython-input-22-e1c4ca8d082a>\u001b[0m in \u001b[0;36m<module>\u001b[0;34m()\u001b[0m\n\u001b[1;32m      1\u001b[0m \u001b[0;31m#trying to access set1 using its index\u001b[0m\u001b[0;34m\u001b[0m\u001b[0;34m\u001b[0m\u001b[0;34m\u001b[0m\u001b[0m\n\u001b[0;32m----> 2\u001b[0;31m \u001b[0mset1\u001b[0m\u001b[0;34m[\u001b[0m\u001b[0;36m3\u001b[0m\u001b[0;34m]\u001b[0m\u001b[0;34m\u001b[0m\u001b[0;34m\u001b[0m\u001b[0m\n\u001b[0m",
            "\u001b[0;31mTypeError\u001b[0m: 'set' object does not support indexing"
          ]
        }
      ]
    },
    {
      "cell_type": "code",
      "metadata": {
        "colab": {
          "base_uri": "https://localhost:8080/"
        },
        "id": "v9yO2Uq9lrcT",
        "outputId": "fd73ce2e-3243-4c64-a697-61f825bccb6c"
      },
      "source": [
        "set1[2]"
      ],
      "execution_count": null,
      "outputs": [
        {
          "output_type": "execute_result",
          "data": {
            "text/plain": [
              "78"
            ]
          },
          "metadata": {
            "tags": []
          },
          "execution_count": 20
        }
      ]
    },
    {
      "cell_type": "code",
      "metadata": {
        "colab": {
          "base_uri": "https://localhost:8080/",
          "height": 35
        },
        "id": "QHUNsfOBmo4e",
        "outputId": "512c81cd-602a-4e7b-8808-ed15c362b484"
      },
      "source": [
        "set1[4]"
      ],
      "execution_count": null,
      "outputs": [
        {
          "output_type": "execute_result",
          "data": {
            "application/vnd.google.colaboratory.intrinsic+json": {
              "type": "string"
            },
            "text/plain": [
              "'ten'"
            ]
          },
          "metadata": {
            "tags": []
          },
          "execution_count": 21
        }
      ]
    },
    {
      "cell_type": "markdown",
      "metadata": {
        "id": "xFoRuepwmr4q"
      },
      "source": [
        "set is growable in nature, hence we can increase or decrease the size of set\n",
        "using the fuctions\n",
        "1.   add()\n",
        "2.   remove()\n",
        "\n"
      ]
    },
    {
      "cell_type": "code",
      "metadata": {
        "id": "p7IfBojJnMsV"
      },
      "source": [
        "#example:"
      ],
      "execution_count": null,
      "outputs": []
    },
    {
      "cell_type": "markdown",
      "metadata": {
        "id": "zWeIfo-VngpX"
      },
      "source": [
        "**frozenset Data Type**\n",
        "--------------------------"
      ]
    },
    {
      "cell_type": "markdown",
      "metadata": {
        "id": "GAPnVq9HnmtQ"
      },
      "source": [
        "It is exactly same as set data type except that it is immutable, ie we cannot \n",
        "use add() or remove() function over frozenset data type."
      ]
    },
    {
      "cell_type": "code",
      "metadata": {
        "colab": {
          "base_uri": "https://localhost:8080/"
        },
        "id": "Kt5pkl-KojCD",
        "outputId": "301e5403-426c-4925-a189-e1b0def14028"
      },
      "source": [
        "#example\n",
        "set2 = {100, 45, 'ten', 2.3, 10101}\n",
        "set2.add(234)\n",
        "set2"
      ],
      "execution_count": null,
      "outputs": [
        {
          "output_type": "execute_result",
          "data": {
            "text/plain": [
              "{100, 10101, 2.3, 234, 45, 'ten'}"
            ]
          },
          "metadata": {
            "tags": []
          },
          "execution_count": 23
        }
      ]
    },
    {
      "cell_type": "code",
      "metadata": {
        "id": "x0-FwM6VoxeV"
      },
      "source": [
        "fixed_set2 = frozenset(set2)\n"
      ],
      "execution_count": null,
      "outputs": []
    },
    {
      "cell_type": "code",
      "metadata": {
        "colab": {
          "base_uri": "https://localhost:8080/",
          "height": 164
        },
        "id": "k8cjB1aqo8Ve",
        "outputId": "0bdeb5ac-b229-4809-b246-60cd5efccca4"
      },
      "source": [
        "fixed_set2.remove(234)"
      ],
      "execution_count": null,
      "outputs": [
        {
          "output_type": "error",
          "ename": "AttributeError",
          "evalue": "ignored",
          "traceback": [
            "\u001b[0;31m---------------------------------------------------------------------------\u001b[0m",
            "\u001b[0;31mAttributeError\u001b[0m                            Traceback (most recent call last)",
            "\u001b[0;32m<ipython-input-25-69e0c6e0de6a>\u001b[0m in \u001b[0;36m<module>\u001b[0;34m()\u001b[0m\n\u001b[0;32m----> 1\u001b[0;31m \u001b[0mfixed_set2\u001b[0m\u001b[0;34m.\u001b[0m\u001b[0mremove\u001b[0m\u001b[0;34m(\u001b[0m\u001b[0;36m234\u001b[0m\u001b[0;34m)\u001b[0m\u001b[0;34m\u001b[0m\u001b[0;34m\u001b[0m\u001b[0m\n\u001b[0m",
            "\u001b[0;31mAttributeError\u001b[0m: 'frozenset' object has no attribute 'remove'"
          ]
        }
      ]
    },
    {
      "cell_type": "code",
      "metadata": {
        "colab": {
          "base_uri": "https://localhost:8080/",
          "height": 164
        },
        "id": "SJGaGrKBpC7S",
        "outputId": "fa00b770-4835-477d-9fa8-0c3f8bb201b0"
      },
      "source": [
        "fixed_set2.add(10)"
      ],
      "execution_count": null,
      "outputs": [
        {
          "output_type": "error",
          "ename": "AttributeError",
          "evalue": "ignored",
          "traceback": [
            "\u001b[0;31m---------------------------------------------------------------------------\u001b[0m",
            "\u001b[0;31mAttributeError\u001b[0m                            Traceback (most recent call last)",
            "\u001b[0;32m<ipython-input-26-791e575b8ead>\u001b[0m in \u001b[0;36m<module>\u001b[0;34m()\u001b[0m\n\u001b[0;32m----> 1\u001b[0;31m \u001b[0mfixed_set2\u001b[0m\u001b[0;34m.\u001b[0m\u001b[0madd\u001b[0m\u001b[0;34m(\u001b[0m\u001b[0;36m10\u001b[0m\u001b[0;34m)\u001b[0m\u001b[0;34m\u001b[0m\u001b[0;34m\u001b[0m\u001b[0m\n\u001b[0m",
            "\u001b[0;31mAttributeError\u001b[0m: 'frozenset' object has no attribute 'add'"
          ]
        }
      ]
    },
    {
      "cell_type": "markdown",
      "metadata": {
        "id": "q3OasAoFpHtB"
      },
      "source": [
        "** dict Data type**\n",
        "--------------------"
      ]
    },
    {
      "cell_type": "markdown",
      "metadata": {
        "id": "MbsjWpmJpxEJ"
      },
      "source": [
        "A data type which is used to represent a group of values as key-value pairs\n",
        "is known as **dict** data type."
      ]
    },
    {
      "cell_type": "code",
      "metadata": {
        "colab": {
          "base_uri": "https://localhost:8080/"
        },
        "id": "Kw6_ilVFqNXX",
        "outputId": "e0d8635c-b2c7-4b2c-931e-772ff20a5cf6"
      },
      "source": [
        "#example: \n",
        "stu_roll = { 101:'oti', 102:'mark', 103:'kery'}\n",
        "stu_roll"
      ],
      "execution_count": null,
      "outputs": [
        {
          "output_type": "execute_result",
          "data": {
            "text/plain": [
              "{101: 'oti', 102: 'mark', 103: 'kery'}"
            ]
          },
          "metadata": {
            "tags": []
          },
          "execution_count": 27
        }
      ]
    },
    {
      "cell_type": "markdown",
      "metadata": {
        "id": "eXOQCY7HqouS"
      },
      "source": [
        "We can create an empty dictionary as follows:\n",
        "\n"
      ]
    },
    {
      "cell_type": "code",
      "metadata": {
        "id": "IXWP4sVGrKUX"
      },
      "source": [
        "emp = {}"
      ],
      "execution_count": null,
      "outputs": []
    },
    {
      "cell_type": "markdown",
      "metadata": {
        "id": "L2VVR3MCrP6t"
      },
      "source": [
        "we can also add key-value pairs :"
      ]
    },
    {
      "cell_type": "code",
      "metadata": {
        "id": "KplN6_3YrXPv"
      },
      "source": [
        "emp[100] = 'oti'"
      ],
      "execution_count": null,
      "outputs": []
    },
    {
      "cell_type": "code",
      "metadata": {
        "colab": {
          "base_uri": "https://localhost:8080/"
        },
        "id": "rHZeyB6qrcXV",
        "outputId": "a62aa6ad-9c23-42a9-8c3d-d977d8caf397"
      },
      "source": [
        "emp"
      ],
      "execution_count": null,
      "outputs": [
        {
          "output_type": "execute_result",
          "data": {
            "text/plain": [
              "{100: 'oti'}"
            ]
          },
          "metadata": {
            "tags": []
          },
          "execution_count": 30
        }
      ]
    },
    {
      "cell_type": "code",
      "metadata": {
        "id": "2vqF75PBrdDK"
      },
      "source": [
        "emp[200] = 'mark'"
      ],
      "execution_count": null,
      "outputs": []
    },
    {
      "cell_type": "code",
      "metadata": {
        "colab": {
          "base_uri": "https://localhost:8080/"
        },
        "id": "YgYk3nJ-rihR",
        "outputId": "8d1871af-dbf9-49ad-b2f6-463e8b1453b7"
      },
      "source": [
        "emp"
      ],
      "execution_count": null,
      "outputs": [
        {
          "output_type": "execute_result",
          "data": {
            "text/plain": [
              "{100: 'oti', 200: 'mark'}"
            ]
          },
          "metadata": {
            "tags": []
          },
          "execution_count": 32
        }
      ]
    },
    {
      "cell_type": "code",
      "metadata": {
        "colab": {
          "base_uri": "https://localhost:8080/"
        },
        "id": "znCX5tO-rjR1",
        "outputId": "af50a529-af64-476e-e9fe-175a259af65d"
      },
      "source": [
        "emp"
      ],
      "execution_count": null,
      "outputs": [
        {
          "output_type": "execute_result",
          "data": {
            "text/plain": [
              "{100: 'oti', 200: 'mark'}"
            ]
          },
          "metadata": {
            "tags": []
          },
          "execution_count": 33
        }
      ]
    },
    {
      "cell_type": "code",
      "metadata": {
        "id": "mQoGHhBsrndh"
      },
      "source": [
        "emp[300] = 'kery'"
      ],
      "execution_count": null,
      "outputs": []
    },
    {
      "cell_type": "code",
      "metadata": {
        "colab": {
          "base_uri": "https://localhost:8080/"
        },
        "id": "tEGXdR3ErtLd",
        "outputId": "23649f15-d55a-41c8-aff1-70b112ab87bc"
      },
      "source": [
        "emp"
      ],
      "execution_count": null,
      "outputs": [
        {
          "output_type": "execute_result",
          "data": {
            "text/plain": [
              "{100: 'oti', 200: 'mark', 300: 'kery'}"
            ]
          },
          "metadata": {
            "tags": []
          },
          "execution_count": 35
        }
      ]
    },
    {
      "cell_type": "markdown",
      "metadata": {
        "id": "9iUeXKh1rtug"
      },
      "source": [
        "**Note** \n",
        "---------\n"
      ]
    },
    {
      "cell_type": "markdown",
      "metadata": {
        "id": "-QiXuSHxr2mj"
      },
      "source": [
        "dict is mutable, which means we can change the values of key, \n"
      ]
    },
    {
      "cell_type": "code",
      "metadata": {
        "colab": {
          "base_uri": "https://localhost:8080/"
        },
        "id": "Gpae-G5HsEdP",
        "outputId": "6415fdb2-eb17-413e-ae67-626fc8a18d7d"
      },
      "source": [
        "emp[100]='asha'\n",
        "emp"
      ],
      "execution_count": null,
      "outputs": [
        {
          "output_type": "execute_result",
          "data": {
            "text/plain": [
              "{100: 'asha', 200: 'mark', 300: 'kery'}"
            ]
          },
          "metadata": {
            "tags": []
          },
          "execution_count": 36
        }
      ]
    },
    {
      "cell_type": "code",
      "metadata": {
        "id": "uzHXm2T6sI_W"
      },
      "source": [
        "emp['asha'] = 100"
      ],
      "execution_count": null,
      "outputs": []
    },
    {
      "cell_type": "code",
      "metadata": {
        "colab": {
          "base_uri": "https://localhost:8080/"
        },
        "id": "gp2nhFudsOk8",
        "outputId": "54ca5ef5-a96e-4036-bdda-006a829f483b"
      },
      "source": [
        "emp"
      ],
      "execution_count": null,
      "outputs": [
        {
          "output_type": "execute_result",
          "data": {
            "text/plain": [
              "{100: 'asha', 200: 'mark', 300: 'kery', 'asha': 100}"
            ]
          },
          "metadata": {
            "tags": []
          },
          "execution_count": 38
        }
      ]
    },
    {
      "cell_type": "markdown",
      "metadata": {
        "id": "oQL1MU97sPeG"
      },
      "source": [
        "**Note**\n",
        "---------"
      ]
    },
    {
      "cell_type": "markdown",
      "metadata": {
        "id": "mkYWBaQYshjw"
      },
      "source": [
        "** use of different data types **\n",
        "----------------------------------\n"
      ]
    },
    {
      "cell_type": "markdown",
      "metadata": {
        "id": "W7if2RNfsq5g"
      },
      "source": [
        "    1.  To represent binary information like images, video files etc,\n",
        "        we use bytes & bytesarray data types\n",
        "    2.  In python3 we can repesent long value also using int type only.\n",
        "    3.  In python char data type is not available. We represent char values \n",
        "        by str data type only.\n"
      ]
    },
    {
      "cell_type": "markdown",
      "metadata": {
        "id": "TrjG9lIgtUm2"
      },
      "source": [
        "** None Data Type**\n",
        "---------------------"
      ]
    },
    {
      "cell_type": "markdown",
      "metadata": {
        "id": "Zz237OCdtfr8"
      },
      "source": [
        "None means Nothing or No values associated.\n",
        "In some cases if values are not available then to handle such situation \n",
        "None type is used."
      ]
    },
    {
      "cell_type": "code",
      "metadata": {
        "colab": {
          "base_uri": "https://localhost:8080/"
        },
        "id": "MGkukobXt1GX",
        "outputId": "43980c77-63ce-46d4-95d3-8018c7ab05ac"
      },
      "source": [
        "#example:\n",
        "def run():\n",
        "  name = 'oti'\n",
        "print(run())"
      ],
      "execution_count": null,
      "outputs": [
        {
          "output_type": "stream",
          "text": [
            "None\n"
          ],
          "name": "stdout"
        }
      ]
    },
    {
      "cell_type": "markdown",
      "metadata": {
        "id": "HTB3pCa8uFnd"
      },
      "source": [
        "**Constants**\n",
        "-------------\n"
      ]
    },
    {
      "cell_type": "markdown",
      "metadata": {
        "id": "2Y37RRIPuV0g"
      },
      "source": [
        "--> The concepts of 'Contstant' is not there in python.\n",
        " \n",
        "*   But to consider something as constent we use a standard convention ie.\n",
        "    when we don't want to change value then we use only use\n",
        "    Uppercase characters"
      ]
    },
    {
      "cell_type": "code",
      "metadata": {
        "colab": {
          "base_uri": "https://localhost:8080/"
        },
        "id": "MnSOA8nZu6RY",
        "outputId": "f93ad39d-14f0-4d6d-e8de-bdc14ab30cf6"
      },
      "source": [
        "#To show that we don't want to change a particular value  we use only uppercase character\n",
        "FIXED_PRICE = 45000\n",
        "print(FIXED_PRICE)"
      ],
      "execution_count": null,
      "outputs": [
        {
          "output_type": "stream",
          "text": [
            "45000\n"
          ],
          "name": "stdout"
        }
      ]
    },
    {
      "cell_type": "code",
      "metadata": {
        "id": "lsiJN1NEvcDn"
      },
      "source": [
        "#Here we can change the values \n",
        "FIXED_PRICE = 50000\n",
        "print(FIXED_PRICE)"
      ],
      "execution_count": null,
      "outputs": []
    },
    {
      "cell_type": "code",
      "metadata": {
        "id": "TRbYU-b3vg3I"
      },
      "source": [
        ""
      ],
      "execution_count": null,
      "outputs": []
    }
  ]
}